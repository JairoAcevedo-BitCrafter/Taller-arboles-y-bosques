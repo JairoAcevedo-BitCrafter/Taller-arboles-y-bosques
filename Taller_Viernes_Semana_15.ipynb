{
  "nbformat": 4,
  "nbformat_minor": 0,
  "metadata": {
    "colab": {
      "provenance": []
    },
    "kernelspec": {
      "name": "python3",
      "display_name": "Python 3"
    },
    "language_info": {
      "name": "python"
    }
  },
  "cells": [
    {
      "cell_type": "code",
      "source": [
        "!pip install graphviz"
      ],
      "metadata": {
        "colab": {
          "base_uri": "https://localhost:8080/"
        },
        "id": "aNWUkUgXyv8U",
        "outputId": "3329fa77-07a3-4d4e-bf10-34e4c3a97281"
      },
      "execution_count": 2,
      "outputs": [
        {
          "output_type": "stream",
          "name": "stdout",
          "text": [
            "Requirement already satisfied: graphviz in /usr/local/lib/python3.10/dist-packages (0.20.1)\n"
          ]
        }
      ]
    },
    {
      "cell_type": "markdown",
      "source": [
        "#Arboles de decisión"
      ],
      "metadata": {
        "id": "G6WXk90XVLM-"
      }
    },
    {
      "cell_type": "code",
      "execution_count": 14,
      "metadata": {
        "colab": {
          "base_uri": "https://localhost:8080/",
          "height": 591
        },
        "id": "lay9Eh27yLJr",
        "outputId": "1f28c1bd-ec52-45e5-b473-d743841f573f"
      },
      "outputs": [
        {
          "output_type": "stream",
          "name": "stdout",
          "text": [
            "Precisión del modelo: 1.00000\n",
            "Coeficiente de Correlación de Matthews (MCC): 1.00000\n",
            "Estructura del árbol de decisión:\n",
            "|--- petal width (cm) <= 0.80\n",
            "|   |--- class: 0\n",
            "|--- petal width (cm) >  0.80\n",
            "|   |--- petal width (cm) <= 1.75\n",
            "|   |   |--- petal length (cm) <= 5.35\n",
            "|   |   |   |--- petal width (cm) <= 1.65\n",
            "|   |   |   |   |--- petal length (cm) <= 4.95\n",
            "|   |   |   |   |   |--- class: 1\n",
            "|   |   |   |   |--- petal length (cm) >  4.95\n",
            "|   |   |   |   |   |--- petal width (cm) <= 1.55\n",
            "|   |   |   |   |   |   |--- class: 2\n",
            "|   |   |   |   |   |--- petal width (cm) >  1.55\n",
            "|   |   |   |   |   |   |--- class: 1\n",
            "|   |   |   |--- petal width (cm) >  1.65\n",
            "|   |   |   |   |--- sepal length (cm) <= 5.80\n",
            "|   |   |   |   |   |--- class: 2\n",
            "|   |   |   |   |--- sepal length (cm) >  5.80\n",
            "|   |   |   |   |   |--- class: 1\n",
            "|   |   |--- petal length (cm) >  5.35\n",
            "|   |   |   |--- class: 2\n",
            "|   |--- petal width (cm) >  1.75\n",
            "|   |   |--- petal length (cm) <= 4.85\n",
            "|   |   |   |--- sepal width (cm) <= 3.10\n",
            "|   |   |   |   |--- class: 2\n",
            "|   |   |   |--- sepal width (cm) >  3.10\n",
            "|   |   |   |   |--- class: 1\n",
            "|   |   |--- petal length (cm) >  4.85\n",
            "|   |   |   |--- class: 2\n",
            "\n"
          ]
        },
        {
          "output_type": "execute_result",
          "data": {
            "text/plain": [
              "'iris_decision_tree.pdf'"
            ],
            "application/vnd.google.colaboratory.intrinsic+json": {
              "type": "string"
            }
          },
          "metadata": {},
          "execution_count": 14
        }
      ],
      "source": [
        "# Importa las bibliotecas necesarias\n",
        "from sklearn.datasets import load_iris\n",
        "from sklearn.tree import DecisionTreeClassifier\n",
        "from sklearn.model_selection import train_test_split\n",
        "from sklearn.metrics import accuracy_score\n",
        "from sklearn.tree import export_text\n",
        "from sklearn.metrics import matthews_corrcoef\n",
        "from sklearn.tree import export_graphviz\n",
        "import graphviz\n",
        "\n",
        "# Carga el conjunto de datos Iris\n",
        "iris = load_iris()\n",
        "X = iris.data\n",
        "y = iris.target\n",
        "\n",
        "# Divide el conjunto de datos en un conjunto de entrenamiento y un conjunto de prueba\n",
        "X_train, X_test, y_train, y_test = train_test_split(X, y, test_size=0.2, random_state=17)\n",
        "\n",
        "# Crea un clasificador de árbol de decisión\n",
        "clf = DecisionTreeClassifier()\n",
        "\n",
        "# Entrena el clasificador en el conjunto de entrenamiento\n",
        "clf.fit(X_train, y_train)\n",
        "\n",
        "# Realiza predicciones en el conjunto de prueba\n",
        "y_pred = clf.predict(X_test)\n",
        "\n",
        "# Calcula la precisión del modelo\n",
        "accuracy = accuracy_score(y_test, y_pred)\n",
        "mcc = matthews_corrcoef(y_test, y_pred)\n",
        "print(f'Precisión del modelo: {accuracy:.5f}')\n",
        "print(f'Coeficiente de Correlación de Matthews (MCC): {mcc:.5f}')\n",
        "# Muestra la estructura del árbol de decisión\n",
        "tree_rules = export_text(clf, feature_names=iris.feature_names)\n",
        "print('Estructura del árbol de decisión:')\n",
        "print(tree_rules)\n",
        "# Visualiza el árbol de decisión\n",
        "dot_data = export_graphviz(clf, out_file=None,\n",
        "                         feature_names=iris.feature_names,\n",
        "                         class_names=iris.target_names,\n",
        "                         filled=True, rounded=True,\n",
        "                         special_characters=True)\n",
        "graph = graphviz.Source(dot_data)\n",
        "graph.render(\"iris_decision_tree\")\n",
        "graph.view(\"iris_decision_tree\")"
      ]
    },
    {
      "cell_type": "code",
      "source": [
        "total_nodes = clf.tree_.node_count\n",
        "\n",
        "num_branches = total_nodes // 2\n",
        "num_leaves = (total_nodes + 1) // 2\n",
        "\n",
        "print(f\"Número total de nodos: {total_nodes}\")\n",
        "print(f\"Número de ramas: {num_branches}\")\n",
        "print(f\"Número de hojas: {num_leaves}\")\n",
        "\n",
        "\n",
        "\n",
        "\n",
        "\n",
        "\n"
      ],
      "metadata": {
        "colab": {
          "base_uri": "https://localhost:8080/"
        },
        "id": "ENxo5kX1Vjmf",
        "outputId": "00037dec-bf3f-48c6-f1c5-cee57e9c09a3"
      },
      "execution_count": 4,
      "outputs": [
        {
          "output_type": "stream",
          "name": "stdout",
          "text": [
            "Número total de nodos: 19\n",
            "Número de ramas: 9\n",
            "Número de hojas: 10\n"
          ]
        }
      ]
    },
    {
      "cell_type": "markdown",
      "source": [
        "#RANDOM FOREST"
      ],
      "metadata": {
        "id": "-L7BNX5t1oHI"
      }
    },
    {
      "cell_type": "code",
      "source": [
        "from sklearn.ensemble import RandomForestClassifier\n",
        "forest = RandomForestClassifier(n_estimators=1000, random_state=17)\n",
        "forest.fit(X_train, y_train)\n",
        "y_pred = forest.predict(X_test)\n",
        "\n",
        "# Calcula la precisión del modelo\n",
        "accuracy = accuracy_score(y_test, y_pred)\n",
        "mcc = matthews_corrcoef(y_test, y_pred)\n",
        "print(f'Precisión del modelo: {accuracy:.10f}')\n",
        "print(f'Coeficiente de Correlación de Matthews (MCC): {mcc:.10f}')"
      ],
      "metadata": {
        "colab": {
          "base_uri": "https://localhost:8080/"
        },
        "id": "ojhbpVze1nOC",
        "outputId": "243e9f7f-4110-4bee-fa4b-e238cb7a41e7"
      },
      "execution_count": 9,
      "outputs": [
        {
          "output_type": "stream",
          "name": "stdout",
          "text": [
            "Precisión del modelo: 0.9666666667\n",
            "Coeficiente de Correlación de Matthews (MCC): 0.9505119454\n"
          ]
        }
      ]
    },
    {
      "cell_type": "markdown",
      "source": [
        "#crosvalidación"
      ],
      "metadata": {
        "id": "r6E6MFXG4sVE"
      }
    },
    {
      "cell_type": "code",
      "source": [
        "from sklearn.model_selection import cross_val_score\n",
        "scores_clf = cross_val_score(clf, X_train, y_train, cv=5)\n",
        "scores_forest = cross_val_score(forest, X_train, y_train, cv=5)\n",
        "# Imprimir los resultados de la validación cruzada\n",
        "print(f'Precisión en cada fold clf: {scores_clf}')\n",
        "print(f'Precisión media clf: {scores_clf.mean():.2f}')\n",
        "print(f'Precisión en cada forest: {scores_forest}')\n",
        "print(f'Precisión media forest: {scores_forest.mean():.2f}')"
      ],
      "metadata": {
        "colab": {
          "base_uri": "https://localhost:8080/"
        },
        "id": "pIrD2MJD4rNq",
        "outputId": "a3d47084-0132-4305-846c-6f9bb8851c28"
      },
      "execution_count": 15,
      "outputs": [
        {
          "output_type": "stream",
          "name": "stdout",
          "text": [
            "Precisión en cada fold clf: [1.         0.875      1.         0.91666667 0.91666667]\n",
            "Precisión media clf: 0.94\n",
            "Precisión en cada forest: [1.         0.875      1.         0.95833333 0.91666667]\n",
            "Precisión media forest: 0.95\n"
          ]
        }
      ]
    }
  ]
}